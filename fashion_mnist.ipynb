{
  "nbformat": 4,
  "nbformat_minor": 0,
  "metadata": {
    "colab": {
      "name": "fashion-mnist.ipynb",
      "provenance": [],
      "collapsed_sections": []
    },
    "kernelspec": {
      "name": "python3",
      "display_name": "Python 3"
    }
  },
  "cells": [
    {
      "cell_type": "code",
      "metadata": {
        "id": "4otPdaaXupgA",
        "colab_type": "code",
        "outputId": "a689344e-ac02-4cd7-cc96-124bbf762ef9",
        "colab": {
          "base_uri": "https://localhost:8080/",
          "height": 65
        }
      },
      "source": [
        "import tensorflow as tf\n",
        "from tensorflow import keras\n",
        "import numpy"
      ],
      "execution_count": 0,
      "outputs": [
        {
          "output_type": "display_data",
          "data": {
            "text/html": [
              "<p style=\"color: red;\">\n",
              "The default version of TensorFlow in Colab will soon switch to TensorFlow 2.x.<br>\n",
              "We recommend you <a href=\"https://www.tensorflow.org/guide/migrate\" target=\"_blank\">upgrade</a> now \n",
              "or ensure your notebook will continue to use TensorFlow 1.x via the <code>%tensorflow_version 1.x</code> magic:\n",
              "<a href=\"https://colab.research.google.com/notebooks/tensorflow_version.ipynb\" target=\"_blank\">more info</a>.</p>\n"
            ],
            "text/plain": [
              "<IPython.core.display.HTML object>"
            ]
          },
          "metadata": {
            "tags": []
          }
        }
      ]
    },
    {
      "cell_type": "code",
      "metadata": {
        "id": "yCbWegmCvALE",
        "colab_type": "code",
        "colab": {}
      },
      "source": [
        "dataset = tf.keras.datasets.fashion_mnist"
      ],
      "execution_count": 0,
      "outputs": []
    },
    {
      "cell_type": "code",
      "metadata": {
        "id": "cPzlGrQCvMb4",
        "colab_type": "code",
        "outputId": "38b5b8f8-fca7-4f81-d957-343ecbb28708",
        "colab": {
          "base_uri": "https://localhost:8080/",
          "height": 170
        }
      },
      "source": [
        "(training_data , training_labels) , (test_data , test_lables) = dataset.load_data()"
      ],
      "execution_count": 0,
      "outputs": [
        {
          "output_type": "stream",
          "text": [
            "Downloading data from https://storage.googleapis.com/tensorflow/tf-keras-datasets/train-labels-idx1-ubyte.gz\n",
            "32768/29515 [=================================] - 0s 0us/step\n",
            "Downloading data from https://storage.googleapis.com/tensorflow/tf-keras-datasets/train-images-idx3-ubyte.gz\n",
            "26427392/26421880 [==============================] - 0s 0us/step\n",
            "Downloading data from https://storage.googleapis.com/tensorflow/tf-keras-datasets/t10k-labels-idx1-ubyte.gz\n",
            "8192/5148 [===============================================] - 0s 0us/step\n",
            "Downloading data from https://storage.googleapis.com/tensorflow/tf-keras-datasets/t10k-images-idx3-ubyte.gz\n",
            "4423680/4422102 [==============================] - 0s 0us/step\n"
          ],
          "name": "stdout"
        }
      ]
    },
    {
      "cell_type": "code",
      "metadata": {
        "id": "VdG-Sg-_AVTw",
        "colab_type": "code",
        "outputId": "59663f7a-8162-48ce-bcc7-48a720f46348",
        "colab": {
          "base_uri": "https://localhost:8080/",
          "height": 284
        }
      },
      "source": [
        "import matplotlib.pyplot as plt\n",
        "plt.imshow(training_data[562] , cmap='gray')"
      ],
      "execution_count": 0,
      "outputs": [
        {
          "output_type": "execute_result",
          "data": {
            "text/plain": [
              "<matplotlib.image.AxesImage at 0x7f9f5babec88>"
            ]
          },
          "metadata": {
            "tags": []
          },
          "execution_count": 23
        },
        {
          "output_type": "display_data",
          "data": {
            "image/png": "[encoded data removed]",
            "text/plain": [
              "<Figure size 432x288 with 1 Axes>"
            ]
          },
          "metadata": {
            "tags": []
          }
        }
      ]
    },
    {
      "cell_type": "code",
      "metadata": {
        "id": "ckdbPGgpvfgk",
        "colab_type": "code",
        "colab": {}
      },
      "source": [
        "training_data = training_data / 255\n",
        "test_data = test_data /255"
      ],
      "execution_count": 0,
      "outputs": []
    },
    {
      "cell_type": "code",
      "metadata": {
        "id": "SpZK_LAUwANe",
        "colab_type": "code",
        "colab": {}
      },
      "source": [
        "model = tf.keras.models.Sequential([tf.keras.layers.Flatten() ,\n",
        "                                    tf.keras.layers.Dense(128 ,  activation = tf.nn.relu) ,\n",
        "                                    tf.keras.layers.Dense(10 , activation = tf.nn.softmax)\n",
        "                                    ])"
      ],
      "execution_count": 0,
      "outputs": []
    },
    {
      "cell_type": "code",
      "metadata": {
        "id": "a9a8abC3wv1t",
        "colab_type": "code",
        "outputId": "07bddb4e-d945-48f6-ee71-6fce27f5bcdf",
        "colab": {
          "base_uri": "https://localhost:8080/",
          "height": 95
        }
      },
      "source": [
        "model.compile(optimizer= tf.train.AdamOptimizer() , loss = 'sparse_categorical_crossentropy', metrics= ['accuracy'])"
      ],
      "execution_count": 0,
      "outputs": [
        {
          "output_type": "stream",
          "text": [
            "WARNING:tensorflow:From /usr/local/lib/python3.6/dist-packages/tensorflow_core/python/ops/resource_variable_ops.py:1630: calling BaseResourceVariable.__init__ (from tensorflow.python.ops.resource_variable_ops) with constraint is deprecated and will be removed in a future version.\n",
            "Instructions for updating:\n",
            "If using Keras pass *_constraint arguments to layers.\n"
          ],
          "name": "stdout"
        }
      ]
    },
    {
      "cell_type": "code",
      "metadata": {
        "id": "sohleojbyxKU",
        "colab_type": "code",
        "outputId": "5f9395cf-6549-46af-8f06-61599429bf97",
        "colab": {
          "base_uri": "https://localhost:8080/",
          "height": 1000
        }
      },
      "source": [
        "model.fit(training_data , training_labels , epochs = 25)"
      ],
      "execution_count": 0,
      "outputs": [
        {
          "output_type": "stream",
          "text": [
            "Train on 60000 samples\n",
            "Epoch 1/25\n",
            "60000/60000 [==============================] - 4s 73us/sample - loss: 0.5040 - acc: 0.8248\n",
            "Epoch 2/25\n",
            "60000/60000 [==============================] - 4s 68us/sample - loss: 0.3798 - acc: 0.8653\n",
            "Epoch 3/25\n",
            "60000/60000 [==============================] - 4s 66us/sample - loss: 0.3365 - acc: 0.8777\n",
            "Epoch 4/25\n",
            "60000/60000 [==============================] - 4s 64us/sample - loss: 0.3142 - acc: 0.8845\n",
            "Epoch 5/25\n",
            "60000/60000 [==============================] - 4s 64us/sample - loss: 0.2944 - acc: 0.8920\n",
            "Epoch 6/25\n",
            "60000/60000 [==============================] - 4s 64us/sample - loss: 0.2812 - acc: 0.8957\n",
            "Epoch 7/25\n",
            "60000/60000 [==============================] - 4s 68us/sample - loss: 0.2688 - acc: 0.9005\n",
            "Epoch 8/25\n",
            "60000/60000 [==============================] - 4s 69us/sample - loss: 0.2580 - acc: 0.9051\n",
            "Epoch 9/25\n",
            "60000/60000 [==============================] - 4s 67us/sample - loss: 0.2485 - acc: 0.9076\n",
            "Epoch 10/25\n",
            "60000/60000 [==============================] - 4s 64us/sample - loss: 0.2411 - acc: 0.9102\n",
            "Epoch 11/25\n",
            "60000/60000 [==============================] - 4s 67us/sample - loss: 0.2315 - acc: 0.9131\n",
            "Epoch 12/25\n",
            "60000/60000 [==============================] - 4s 67us/sample - loss: 0.2232 - acc: 0.9171\n",
            "Epoch 13/25\n",
            "60000/60000 [==============================] - 4s 64us/sample - loss: 0.2175 - acc: 0.9182\n",
            "Epoch 14/25\n",
            "60000/60000 [==============================] - 4s 67us/sample - loss: 0.2106 - acc: 0.9207\n",
            "Epoch 15/25\n",
            "60000/60000 [==============================] - 4s 64us/sample - loss: 0.2052 - acc: 0.9243\n",
            "Epoch 16/25\n",
            "60000/60000 [==============================] - 4s 68us/sample - loss: 0.1997 - acc: 0.9247\n",
            "Epoch 17/25\n",
            "60000/60000 [==============================] - 4s 65us/sample - loss: 0.1943 - acc: 0.9280\n",
            "Epoch 18/25\n",
            "60000/60000 [==============================] - 4s 68us/sample - loss: 0.1888 - acc: 0.9287\n",
            "Epoch 19/25\n",
            "60000/60000 [==============================] - 4s 63us/sample - loss: 0.1859 - acc: 0.9299\n",
            "Epoch 20/25\n",
            "60000/60000 [==============================] - 4s 63us/sample - loss: 0.1809 - acc: 0.9327\n",
            "Epoch 21/25\n",
            "60000/60000 [==============================] - 4s 66us/sample - loss: 0.1746 - acc: 0.9346\n",
            "Epoch 22/25\n",
            "60000/60000 [==============================] - 4s 63us/sample - loss: 0.1713 - acc: 0.9359\n",
            "Epoch 23/25\n",
            "60000/60000 [==============================] - 4s 66us/sample - loss: 0.1656 - acc: 0.9380\n",
            "Epoch 24/25\n",
            "60000/60000 [==============================] - 4s 63us/sample - loss: 0.1632 - acc: 0.9397\n",
            "Epoch 25/25\n",
            "60000/60000 [==============================] - 4s 67us/sample - loss: 0.1602 - acc: 0.9402\n"
          ],
          "name": "stdout"
        },
        {
          "output_type": "execute_result",
          "data": {
            "text/plain": [
              "<tensorflow.python.keras.callbacks.History at 0x7f9fbc915a90>"
            ]
          },
          "metadata": {
            "tags": []
          },
          "execution_count": 11
        }
      ]
    },
    {
      "cell_type": "code",
      "metadata": {
        "id": "DolZv1kry-Hi",
        "colab_type": "code",
        "outputId": "a6402192-c70a-4655-d8e1-1f7beec32b89",
        "colab": {
          "base_uri": "https://localhost:8080/",
          "height": 55
        }
      },
      "source": [
        "model.evaluate(test_data , test_lables )"
      ],
      "execution_count": 0,
      "outputs": [
        {
          "output_type": "stream",
          "text": [
            "10000/10000 [==============================] - 0s 35us/sample - loss: 0.3764 - acc: 0.8903\n"
          ],
          "name": "stdout"
        },
        {
          "output_type": "execute_result",
          "data": {
            "text/plain": [
              "[0.37639666028022767, 0.8903]"
            ]
          },
          "metadata": {
            "tags": []
          },
          "execution_count": 12
        }
      ]
    },
    {
      "cell_type": "code",
      "metadata": {
        "id": "DtWhkAlJzlct",
        "colab_type": "code",
        "colab": {}
      },
      "source": [
        ""
      ],
      "execution_count": 0,
      "outputs": []
    }
  ]
}